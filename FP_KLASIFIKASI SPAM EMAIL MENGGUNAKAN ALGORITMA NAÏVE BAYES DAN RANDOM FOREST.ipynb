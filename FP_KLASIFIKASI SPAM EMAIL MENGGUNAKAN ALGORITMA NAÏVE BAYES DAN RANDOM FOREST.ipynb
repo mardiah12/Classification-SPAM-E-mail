{
  "nbformat": 4,
  "nbformat_minor": 0,
  "metadata": {
    "colab": {
      "provenance": []
    },
    "kernelspec": {
      "name": "python3",
      "display_name": "Python 3"
    },
    "language_info": {
      "name": "python"
    }
  },
  "cells": [
    {
      "cell_type": "code",
      "execution_count": null,
      "metadata": {
        "colab": {
          "base_uri": "https://localhost:8080/"
        },
        "id": "wzk4k-OzwPs8",
        "outputId": "e7cbf426-22a2-4cf4-807b-7d26fbbb96aa"
      },
      "outputs": [
        {
          "output_type": "stream",
          "name": "stdout",
          "text": [
            "Looking in indexes: https://pypi.org/simple, https://us-python.pkg.dev/colab-wheels/public/simple/\n",
            "Requirement already satisfied: pyspark in /usr/local/lib/python3.8/dist-packages (3.3.1)\n",
            "Requirement already satisfied: py4j==0.10.9.5 in /usr/local/lib/python3.8/dist-packages (from pyspark) (0.10.9.5)\n"
          ]
        }
      ],
      "source": [
        "#install spark\n",
        "!pip install pyspark"
      ]
    },
    {
      "cell_type": "code",
      "source": [
        "#penamaan spark jadi \"SPAM_EMAIL\"\n",
        "from pyspark.sql import SparkSession\n",
        "spark = SparkSession.builder.appName('SPAM_EMAIL').getOrCreate()"
      ],
      "metadata": {
        "id": "lD7KN2qOwdCF"
      },
      "execution_count": null,
      "outputs": []
    },
    {
      "cell_type": "markdown",
      "source": [
        "# Importt Data"
      ],
      "metadata": {
        "id": "iNCBb654aVLC"
      }
    },
    {
      "cell_type": "code",
      "source": [
        "#memanggil data set atau import dataset \n",
        "path = '/content/spam.csv'"
      ],
      "metadata": {
        "id": "zfZIWqx_w_XF"
      },
      "execution_count": null,
      "outputs": []
    },
    {
      "cell_type": "code",
      "source": [
        "data_original = spark.read.csv(path, inferSchema=True,header=True)"
      ],
      "metadata": {
        "id": "_RURJ2aPxIua"
      },
      "execution_count": null,
      "outputs": []
    },
    {
      "cell_type": "code",
      "source": [
        "#print or display dari data frame, ini hanya menampilkan nama kolum dan tipe data.\n",
        "data_original.printSchema()"
      ],
      "metadata": {
        "colab": {
          "base_uri": "https://localhost:8080/"
        },
        "id": "qvCepDjVxVbI",
        "outputId": "26a60a97-68c7-4b11-8b5e-e7457fa291af"
      },
      "execution_count": null,
      "outputs": [
        {
          "output_type": "stream",
          "name": "stdout",
          "text": [
            "root\n",
            " |-- v1: string (nullable = true)\n",
            " |-- v2: string (nullable = true)\n",
            " |-- _c2: string (nullable = true)\n",
            " |-- _c3: string (nullable = true)\n",
            " |-- _c4: string (nullable = true)\n",
            "\n"
          ]
        }
      ]
    },
    {
      "cell_type": "code",
      "source": [
        "for keys,item in zip(data_original.head(5)[3].asDict().keys(),\n",
        "                     data_original.head(5)[3].asDict().values()):\n",
        "  print(keys+' : '+str(item))"
      ],
      "metadata": {
        "colab": {
          "base_uri": "https://localhost:8080/"
        },
        "id": "a9ySaMr1xXOR",
        "outputId": "81d8d20a-e287-460f-cfe3-b0bc08cb99ad"
      },
      "execution_count": null,
      "outputs": [
        {
          "output_type": "stream",
          "name": "stdout",
          "text": [
            "v1 : ham\n",
            "v2 : U dun say so early hor... U c already then say...\n",
            "_c2 : None\n",
            "_c3 : None\n",
            "_c4 : None\n"
          ]
        }
      ]
    },
    {
      "cell_type": "code",
      "source": [
        "#menampilkan kolom kosong\n",
        "from pyspark.sql.functions import col,isnan, when, count\n",
        "\n",
        "data_original.select(\n",
        "    [\n",
        "        count(\n",
        "            when(\n",
        "                isnan(c) | col(c).isNull(), c\n",
        "                 )\n",
        "            ).alias(c) for c in data_original.columns\n",
        "     ]\n",
        "     ).show()"
      ],
      "metadata": {
        "colab": {
          "base_uri": "https://localhost:8080/"
        },
        "id": "rIgUiWMRxa9-",
        "outputId": "6a164b51-8580-4fa6-a59d-026ae5749080"
      },
      "execution_count": null,
      "outputs": [
        {
          "output_type": "stream",
          "name": "stdout",
          "text": [
            "+---+---+----+----+----+\n",
            "| v1| v2| _c2| _c3| _c4|\n",
            "+---+---+----+----+----+\n",
            "|  0|  1|5525|5562|5568|\n",
            "+---+---+----+----+----+\n",
            "\n"
          ]
        }
      ]
    },
    {
      "cell_type": "code",
      "source": [
        "#untuk mengukur panjang kolom dari suatu data\n",
        "from pyspark.sql.functions import length,mean\n",
        "\n",
        "data = data_original.select('v1','v2')\\\n",
        "        .withColumnRenamed('v1','class')\\\n",
        "        .withColumn('length',length(data_original['v2']))\\\n",
        "        .withColumnRenamed('v2','message')\\\n",
        "        .na.drop()\\\n",
        "        .filter(\n",
        "                (data_original['v1'] == 'ham') |\\\n",
        "                (data_original['v1'] == 'spam')\n",
        "                )\n",
        "#menghapus data kosong."
      ],
      "metadata": {
        "id": "Zlu0h8UfbX_p"
      },
      "execution_count": null,
      "outputs": []
    },
    {
      "cell_type": "code",
      "source": [
        "data.show()"
      ],
      "metadata": {
        "colab": {
          "base_uri": "https://localhost:8080/"
        },
        "id": "G0aQN5wZcQIg",
        "outputId": "1d0b5b3b-6c8b-4be6-d49d-fafe8181a2bf"
      },
      "execution_count": null,
      "outputs": [
        {
          "output_type": "stream",
          "name": "stdout",
          "text": [
            "+-----+--------------------+------+\n",
            "|class|             message|length|\n",
            "+-----+--------------------+------+\n",
            "|  ham|Go until jurong p...|   111|\n",
            "|  ham|Ok lar... Joking ...|    29|\n",
            "| spam|Free entry in 2 a...|   155|\n",
            "|  ham|U dun say so earl...|    49|\n",
            "|  ham|Nah I don't think...|    61|\n",
            "| spam|FreeMsg Hey there...|   147|\n",
            "|  ham|Even my brother i...|    77|\n",
            "|  ham|As per your reque...|   160|\n",
            "| spam|WINNER!! As a val...|   157|\n",
            "| spam|Had your mobile 1...|   154|\n",
            "|  ham|I'm gonna be home...|   109|\n",
            "| spam|SIX chances to wi...|   136|\n",
            "| spam|URGENT! You have ...|   155|\n",
            "|  ham|I've been searchi...|   196|\n",
            "|  ham|I HAVE A DATE ON ...|    35|\n",
            "| spam|XXXMobileMovieClu...|   149|\n",
            "|  ham|Oh k...i'm watchi...|    26|\n",
            "|  ham|Eh u remember how...|    81|\n",
            "|  ham|Fine if that��s t...|    58|\n",
            "| spam|England v Macedon...|   155|\n",
            "+-----+--------------------+------+\n",
            "only showing top 20 rows\n",
            "\n"
          ]
        }
      ]
    },
    {
      "cell_type": "code",
      "source": [
        "#menggabungkan data dan menhitung rata-rata\n",
        "data.groupBy('class')\\\n",
        "    .agg(\n",
        "        count('class'),\n",
        "         mean('length')\n",
        "         ).show()"
      ],
      "metadata": {
        "colab": {
          "base_uri": "https://localhost:8080/"
        },
        "id": "ocB7szk0cVpe",
        "outputId": "c55c2753-652c-4b43-b1fa-3ba14b50978a"
      },
      "execution_count": null,
      "outputs": [
        {
          "output_type": "stream",
          "name": "stdout",
          "text": [
            "+-----+------------+------------------+\n",
            "|class|count(class)|       avg(length)|\n",
            "+-----+------------+------------------+\n",
            "|  ham|        4825| 71.07357512953368|\n",
            "| spam|         747|138.45917001338688|\n",
            "+-----+------------+------------------+\n",
            "\n"
          ]
        }
      ]
    },
    {
      "cell_type": "markdown",
      "source": [
        "# SPARK MODELING"
      ],
      "metadata": {
        "id": "sH2ZgxdUeRvE"
      }
    },
    {
      "cell_type": "code",
      "source": [
        "#import StringIndexer untuk merubah tipe menjadi numrical.\n",
        "from pyspark.ml.feature import (RegexTokenizer,StopWordsRemover, \n",
        "                                CountVectorizer,IDF,\n",
        "                                StringIndexer,VectorAssembler)"
      ],
      "metadata": {
        "id": "3B541uvdCdFC"
      },
      "execution_count": null,
      "outputs": []
    },
    {
      "cell_type": "code",
      "source": [
        "#penggunaan string indexer untuk merubah data\n",
        "indexer = StringIndexer(\n",
        "                        inputCol=\"class\",\n",
        "                        outputCol=\"label\",\n",
        "                        stringOrderType=\"frequencyDesc\"\n",
        "                        )\n",
        "\n",
        "index_data = indexer.fit(data).transform(data)\n",
        "\n",
        "index_data.groupBy('label')\\\n",
        "    .agg(\n",
        "        count('label'),\n",
        "         mean('length')\n",
        "         ).show()"
      ],
      "metadata": {
        "colab": {
          "base_uri": "https://localhost:8080/"
        },
        "id": "jBwJZ0ovCily",
        "outputId": "d391bbd0-4320-4e26-c2fe-515b3d8e43ed"
      },
      "execution_count": null,
      "outputs": [
        {
          "output_type": "stream",
          "name": "stdout",
          "text": [
            "+-----+------------+------------------+\n",
            "|label|count(label)|       avg(length)|\n",
            "+-----+------------+------------------+\n",
            "|  0.0|        4825| 71.07357512953368|\n",
            "|  1.0|         747|138.45917001338688|\n",
            "+-----+------------+------------------+\n",
            "\n"
          ]
        }
      ]
    },
    {
      "cell_type": "code",
      "source": [
        "#merubah data col Message ke col words. \n",
        "#Spasi atau space harus di hapuskan dan kalimat dipisahkan perkata\n",
        "token = RegexTokenizer(\n",
        "                        inputCol=\"message\",\n",
        "                        outputCol=\"words\",\n",
        "                        pattern=\"\\\\W\"\n",
        "                        )\n",
        "token_data = token.transform(index_data)\n",
        "\n",
        "token_data.show(5)"
      ],
      "metadata": {
        "colab": {
          "base_uri": "https://localhost:8080/"
        },
        "id": "KQRHu4aRCowQ",
        "outputId": "c4481bce-6abe-4412-a4e6-3fe290ae480b"
      },
      "execution_count": null,
      "outputs": [
        {
          "output_type": "stream",
          "name": "stdout",
          "text": [
            "+-----+--------------------+------+-----+--------------------+\n",
            "|class|             message|length|label|               words|\n",
            "+-----+--------------------+------+-----+--------------------+\n",
            "|  ham|Go until jurong p...|   111|  0.0|[go, until, juron...|\n",
            "|  ham|Ok lar... Joking ...|    29|  0.0|[ok, lar, joking,...|\n",
            "| spam|Free entry in 2 a...|   155|  1.0|[free, entry, in,...|\n",
            "|  ham|U dun say so earl...|    49|  0.0|[u, dun, say, so,...|\n",
            "|  ham|Nah I don't think...|    61|  0.0|[nah, i, don, t, ...|\n",
            "+-----+--------------------+------+-----+--------------------+\n",
            "only showing top 5 rows\n",
            "\n"
          ]
        }
      ]
    },
    {
      "cell_type": "code",
      "source": [
        "#kata yang tidak terdapat informasi akan di hapus oleh spark\n",
        "stop = StopWordsRemover(inputCol='words', outputCol='n_words')\n",
        "\n",
        "stop_data = stop.transform(token_data)\n",
        "\n",
        "stop_data.select('words','n_words').show(5)"
      ],
      "metadata": {
        "colab": {
          "base_uri": "https://localhost:8080/"
        },
        "id": "JlNpy8mnCv8j",
        "outputId": "24a15bf8-6b50-4827-f5e4-f6e7f7a74cdc"
      },
      "execution_count": null,
      "outputs": [
        {
          "output_type": "stream",
          "name": "stdout",
          "text": [
            "+--------------------+--------------------+\n",
            "|               words|             n_words|\n",
            "+--------------------+--------------------+\n",
            "|[go, until, juron...|[go, jurong, poin...|\n",
            "|[ok, lar, joking,...|[ok, lar, joking,...|\n",
            "|[free, entry, in,...|[free, entry, 2, ...|\n",
            "|[u, dun, say, so,...|[u, dun, say, ear...|\n",
            "|[nah, i, don, t, ...|[nah, think, goes...|\n",
            "+--------------------+--------------------+\n",
            "only showing top 5 rows\n",
            "\n"
          ]
        }
      ]
    },
    {
      "cell_type": "code",
      "source": [
        "#membuat dictionary numeric dari semua isi pesan dengan CountVectorizer\n",
        "countvec = CountVectorizer(inputCol='n_words',outputCol='cvec_words')\n",
        "\n",
        "countvec_data = countvec.fit(stop_data).transform(stop_data)\n",
        "\n",
        "countvec_data.select('cvec_words').show(1,truncate=False)"
      ],
      "metadata": {
        "colab": {
          "base_uri": "https://localhost:8080/"
        },
        "id": "Fd5AZjxKC1Kh",
        "outputId": "16710beb-aa29-475e-9db3-304323e424b4"
      },
      "execution_count": null,
      "outputs": [
        {
          "output_type": "stream",
          "name": "stdout",
          "text": [
            "+------------------------------------------------------------------------------------------------------------------------------------------+\n",
            "|cvec_words                                                                                                                                |\n",
            "+------------------------------------------------------------------------------------------------------------------------------------------+\n",
            "|(8537,[11,16,37,62,69,79,249,544,632,770,1252,1295,1308,2873,4668,4907],[1.0,1.0,1.0,1.0,1.0,1.0,1.0,1.0,1.0,1.0,1.0,1.0,1.0,1.0,1.0,1.0])|\n",
            "+------------------------------------------------------------------------------------------------------------------------------------------+\n",
            "only showing top 1 row\n",
            "\n"
          ]
        }
      ]
    },
    {
      "cell_type": "code",
      "source": [
        "#statistik numerik untuk mencari kata yang penting\n",
        "idf_model = IDF(inputCol='cvec_words',outputCol='idf_words')\n",
        "\n",
        "idf_data = idf_model.fit(countvec_data).transform(countvec_data)\n",
        "\n",
        "idf_data.select('idf_words').show(1,truncate=False)"
      ],
      "metadata": {
        "colab": {
          "base_uri": "https://localhost:8080/"
        },
        "id": "tNxTy3PqC7qE",
        "outputId": "fcede1c9-cb89-49f3-8963-defd01f8daeb"
      },
      "execution_count": null,
      "outputs": [
        {
          "output_type": "stream",
          "name": "stdout",
          "text": [
            "+------------------------------------------------------------------------------------------------------------------------------------------------------------------------------------------------------------------------------------------------------------------------------------------------------------------------------------------------------------------------------+\n",
            "|idf_words                                                                                                                                                                                                                                                                                                                                                                     |\n",
            "+------------------------------------------------------------------------------------------------------------------------------------------------------------------------------------------------------------------------------------------------------------------------------------------------------------------------------------------------------------------------------+\n",
            "|(8537,[11,16,37,62,69,79,249,544,632,770,1252,1295,1308,2873,4668,4907],[3.0535347553917718,3.1919667840152965,3.781501701110945,3.9343409053403926,3.9909597993399006,4.159780668914952,5.042169849113426,5.681249808403096,5.917638586467326,5.986631457954278,6.546247245889701,6.546247245889701,6.546247245889701,7.527076498901427,7.932541607009591,7.932541607009591])|\n",
            "+------------------------------------------------------------------------------------------------------------------------------------------------------------------------------------------------------------------------------------------------------------------------------------------------------------------------------------------------------------------------------+\n",
            "only showing top 1 row\n",
            "\n"
          ]
        }
      ]
    },
    {
      "cell_type": "code",
      "source": [
        "#pemisahan vector antara kolom features dan label \n",
        "assembler = VectorAssembler(inputCols=['idf_words','length'],outputCol='features')\n",
        "\n",
        "treated_data = assembler.transform(idf_data)\n",
        "\n",
        "treated_data.select('features','label').show()"
      ],
      "metadata": {
        "colab": {
          "base_uri": "https://localhost:8080/"
        },
        "id": "414ZgniUDCBY",
        "outputId": "35bcafe0-57f5-4f01-8899-437867a8dc25"
      },
      "execution_count": null,
      "outputs": [
        {
          "output_type": "stream",
          "name": "stdout",
          "text": [
            "+--------------------+-----+\n",
            "|            features|label|\n",
            "+--------------------+-----+\n",
            "|(8538,[11,16,37,6...|  0.0|\n",
            "|(8538,[0,9,244,36...|  0.0|\n",
            "|(8538,[2,10,23,24...|  1.0|\n",
            "|(8538,[0,57,85,86...|  0.0|\n",
            "|(8538,[53,136,366...|  0.0|\n",
            "|(8538,[9,15,21,26...|  1.0|\n",
            "|(8538,[15,132,286...|  0.0|\n",
            "|(8538,[149,157,31...|  0.0|\n",
            "|(8538,[1,64,82,14...|  1.0|\n",
            "|(8538,[0,1,10,31,...|  1.0|\n",
            "|(8538,[3,22,29,33...|  0.0|\n",
            "|(8538,[6,17,21,24...|  1.0|\n",
            "|(8538,[10,24,26,5...|  1.0|\n",
            "|(8538,[45,77,84,1...|  0.0|\n",
            "|(8538,[479,677,85...|  0.0|\n",
            "|(8538,[24,37,80,1...|  1.0|\n",
            "|(8538,[3,41,63,27...|  0.0|\n",
            "|(8538,[0,2,71,73,...|  0.0|\n",
            "|(8538,[0,72,91,13...|  0.0|\n",
            "|(8538,[5,24,26,42...|  1.0|\n",
            "+--------------------+-----+\n",
            "only showing top 20 rows\n",
            "\n"
          ]
        }
      ]
    },
    {
      "cell_type": "code",
      "source": [
        "treated_data.select('features')"
      ],
      "metadata": {
        "colab": {
          "base_uri": "https://localhost:8080/"
        },
        "id": "tbb1DiJhDFpq",
        "outputId": "a22226f3-ba04-43cb-c8a0-9a070f4a7dc6"
      },
      "execution_count": null,
      "outputs": [
        {
          "output_type": "execute_result",
          "data": {
            "text/plain": [
              "DataFrame[features: vector]"
            ]
          },
          "metadata": {},
          "execution_count": 18
        }
      ]
    },
    {
      "cell_type": "markdown",
      "source": [
        "# Pipeline"
      ],
      "metadata": {
        "id": "kJa0q_jBFjDa"
      }
    },
    {
      "cell_type": "code",
      "source": [
        "from pyspark.ml import Pipeline"
      ],
      "metadata": {
        "id": "jy3xduCmDJLm"
      },
      "execution_count": null,
      "outputs": []
    },
    {
      "cell_type": "code",
      "source": [
        "pipe_prep_data = Pipeline(stages=[indexer, token, stop, countvec,\n",
        "                                  idf_model, assembler])"
      ],
      "metadata": {
        "id": "sKjpD_BHDMiS"
      },
      "execution_count": null,
      "outputs": []
    },
    {
      "cell_type": "code",
      "source": [
        "prep_data = pipe_prep_data.fit(data).transform(data)"
      ],
      "metadata": {
        "id": "J6Tyd1_0DN1J"
      },
      "execution_count": null,
      "outputs": []
    },
    {
      "cell_type": "code",
      "source": [
        "prep_data.select('features','label').show()"
      ],
      "metadata": {
        "colab": {
          "base_uri": "https://localhost:8080/"
        },
        "id": "YwC2LZjyDRYd",
        "outputId": "c869a31e-28d6-4298-a635-b08bab2e5800"
      },
      "execution_count": null,
      "outputs": [
        {
          "output_type": "stream",
          "name": "stdout",
          "text": [
            "+--------------------+-----+\n",
            "|            features|label|\n",
            "+--------------------+-----+\n",
            "|(8538,[11,16,37,6...|  0.0|\n",
            "|(8538,[0,9,244,36...|  0.0|\n",
            "|(8538,[2,10,23,24...|  1.0|\n",
            "|(8538,[0,57,85,86...|  0.0|\n",
            "|(8538,[53,136,366...|  0.0|\n",
            "|(8538,[9,15,21,26...|  1.0|\n",
            "|(8538,[15,132,286...|  0.0|\n",
            "|(8538,[149,157,31...|  0.0|\n",
            "|(8538,[1,64,82,14...|  1.0|\n",
            "|(8538,[0,1,10,31,...|  1.0|\n",
            "|(8538,[3,22,29,33...|  0.0|\n",
            "|(8538,[6,17,21,24...|  1.0|\n",
            "|(8538,[10,24,26,5...|  1.0|\n",
            "|(8538,[45,77,84,1...|  0.0|\n",
            "|(8538,[479,677,85...|  0.0|\n",
            "|(8538,[24,37,80,1...|  1.0|\n",
            "|(8538,[3,41,63,27...|  0.0|\n",
            "|(8538,[0,2,71,73,...|  0.0|\n",
            "|(8538,[0,72,91,13...|  0.0|\n",
            "|(8538,[5,24,26,42...|  1.0|\n",
            "+--------------------+-----+\n",
            "only showing top 20 rows\n",
            "\n"
          ]
        }
      ]
    },
    {
      "cell_type": "markdown",
      "source": [
        "# Machine Learning Modelling"
      ],
      "metadata": {
        "id": "ZNSHNEnnGR_k"
      }
    },
    {
      "cell_type": "markdown",
      "source": [
        "# Train and Test\n",
        "membagi data menjadi data train dan data test"
      ],
      "metadata": {
        "id": "rKqsBiW8GX_Y"
      }
    },
    {
      "cell_type": "code",
      "source": [
        "#membagi data dengan random state nya 0.8 dan 0.2.\n",
        "#0.8 untuk train dan 0.2 untuk test\n",
        "train_data,test_data = prep_data.randomSplit([0.8,0.2],seed = 1)"
      ],
      "metadata": {
        "id": "TXrNbdOnDTHg"
      },
      "execution_count": null,
      "outputs": []
    },
    {
      "cell_type": "code",
      "source": [
        "train_data.groupBy('label').count().show()"
      ],
      "metadata": {
        "colab": {
          "base_uri": "https://localhost:8080/"
        },
        "id": "LfqjJpW8DcYp",
        "outputId": "24e6067d-7726-4cf8-c999-36eaae1b343a"
      },
      "execution_count": null,
      "outputs": [
        {
          "output_type": "stream",
          "name": "stdout",
          "text": [
            "+-----+-----+\n",
            "|label|count|\n",
            "+-----+-----+\n",
            "|  0.0| 3832|\n",
            "|  1.0|  594|\n",
            "+-----+-----+\n",
            "\n"
          ]
        }
      ]
    },
    {
      "cell_type": "code",
      "source": [
        "test_data.groupBy('label').count().show()"
      ],
      "metadata": {
        "colab": {
          "base_uri": "https://localhost:8080/"
        },
        "id": "ksWfirGWDfCr",
        "outputId": "762753d0-bfa6-4010-e07b-17e98a8d67fd"
      },
      "execution_count": null,
      "outputs": [
        {
          "output_type": "stream",
          "name": "stdout",
          "text": [
            "+-----+-----+\n",
            "|label|count|\n",
            "+-----+-----+\n",
            "|  0.0|  993|\n",
            "|  1.0|  153|\n",
            "+-----+-----+\n",
            "\n"
          ]
        }
      ]
    },
    {
      "cell_type": "markdown",
      "source": [
        "# Naive Bayes"
      ],
      "metadata": {
        "id": "EkeguMPaHdlu"
      }
    },
    {
      "cell_type": "code",
      "source": [
        "#import algoritma Naive Bayes\n",
        "from pyspark.ml.classification import NaiveBayes"
      ],
      "metadata": {
        "id": "TGPMyDKTDi9X"
      },
      "execution_count": null,
      "outputs": []
    },
    {
      "cell_type": "code",
      "source": [
        "nB = NaiveBayes(featuresCol='features',\n",
        "                      labelCol='label',\n",
        "                      modelType='multinomial')"
      ],
      "metadata": {
        "id": "_ko0VR-wDlgF"
      },
      "execution_count": null,
      "outputs": []
    },
    {
      "cell_type": "code",
      "source": [
        "nB_model = nB.fit(train_data)"
      ],
      "metadata": {
        "id": "e92WL5ybDnv4"
      },
      "execution_count": null,
      "outputs": []
    },
    {
      "cell_type": "code",
      "source": [
        "test_results = nB_model.transform(test_data)\n",
        "test_results.columns"
      ],
      "metadata": {
        "colab": {
          "base_uri": "https://localhost:8080/"
        },
        "id": "k0mFN1D_DsLU",
        "outputId": "91ea63a4-8124-4d77-f0f4-14704537a15e"
      },
      "execution_count": null,
      "outputs": [
        {
          "output_type": "execute_result",
          "data": {
            "text/plain": [
              "['class',\n",
              " 'message',\n",
              " 'length',\n",
              " 'label',\n",
              " 'words',\n",
              " 'n_words',\n",
              " 'cvec_words',\n",
              " 'idf_words',\n",
              " 'features',\n",
              " 'rawPrediction',\n",
              " 'probability',\n",
              " 'prediction']"
            ]
          },
          "metadata": {},
          "execution_count": 29
        }
      ]
    },
    {
      "cell_type": "code",
      "source": [
        "test_results.select('label','prediction','rawPrediction','probability').show()"
      ],
      "metadata": {
        "colab": {
          "base_uri": "https://localhost:8080/"
        },
        "id": "_yS3lv3XDvUx",
        "outputId": "9de26a4a-43d4-4c40-ee54-10ba9306dc21"
      },
      "execution_count": null,
      "outputs": [
        {
          "output_type": "stream",
          "name": "stdout",
          "text": [
            "+-----+----------+--------------------+--------------------+\n",
            "|label|prediction|       rawPrediction|         probability|\n",
            "+-----+----------+--------------------+--------------------+\n",
            "|  0.0|       0.0|[-859.65131284924...|[1.0,4.3097634138...|\n",
            "|  0.0|       0.0|[-4650.7280415482...|[1.0,7.7828248558...|\n",
            "|  0.0|       0.0|[-4650.7280415482...|[1.0,7.7828248558...|\n",
            "|  0.0|       0.0|[-1203.6600955646...|[1.0,1.2878081462...|\n",
            "|  0.0|       0.0|[-1411.3269760801...|[1.0,1.3678122809...|\n",
            "|  0.0|       0.0|[-1220.8401401176...|[1.0,1.3227880678...|\n",
            "|  0.0|       0.0|[-480.14388362531...|[1.0,6.1770067477...|\n",
            "|  0.0|       0.0|[-292.17748613866...|[1.0,1.3484351044...|\n",
            "|  0.0|       0.0|[-426.76108379898...|[1.0,3.6604115341...|\n",
            "|  0.0|       0.0|[-1905.6818024263...|[1.0,3.6097431012...|\n",
            "|  0.0|       0.0|[-1674.1179745284...|[0.95938665094168...|\n",
            "|  0.0|       0.0|[-227.60994623319...|[0.99999978380961...|\n",
            "|  0.0|       0.0|[-463.80407128968...|[1.0,1.8051991557...|\n",
            "|  0.0|       0.0|[-376.25638955003...|[1.0,2.5197814669...|\n",
            "|  0.0|       0.0|[-378.86442935953...|[1.0,5.5895255672...|\n",
            "|  0.0|       0.0|[-889.18198660483...|[1.0,2.6488788870...|\n",
            "|  0.0|       0.0|[-36.208228311163...|[0.99999985361701...|\n",
            "|  0.0|       0.0|[-112.93466403114...|[1.0,2.9161312375...|\n",
            "|  0.0|       1.0|[-117.25768279759...|[0.01669187093660...|\n",
            "|  0.0|       1.0|[-1035.8304505799...|[0.44306626932948...|\n",
            "+-----+----------+--------------------+--------------------+\n",
            "only showing top 20 rows\n",
            "\n"
          ]
        }
      ]
    },
    {
      "cell_type": "code",
      "source": [
        "#Evaluation Model dengan Confusion Matrix\n",
        "def ConfusionMatrixStats(test_results): \n",
        "\n",
        "    #True Positives\n",
        "    TP = test_results.filter((test_results['prediction']==1) & (test_results['label'] == 1)).count()\n",
        "    #True Negatives\n",
        "    TN = test_results.filter((test_results['prediction']==0) & (test_results['label'] == 0)).count()\n",
        "    #False Positives\n",
        "    FP = test_results.filter((test_results['prediction']==1) & (test_results['label'] == 0)).count()\n",
        "    #False Negatives\n",
        "    FN = test_results.filter((test_results['prediction']==0) & (test_results['label'] == 1)).count()\n",
        "\n",
        "    mat = [[TP,FN],[FP,TN]]\n",
        "    print('-----------------------------------------------')\n",
        "    print('TP  =   {}         FN  =   {}   '.format(TP,FN))\n",
        "    print('FP  =   {}         TN  =   {}   '.format(FP,TN))\n",
        "\n",
        "    accuracy = (TP+TN)/(TP+TN+FP+FN)\n",
        "    print('The accuracy for the test dataset is {}.'.format(accuracy))\n",
        "    #recall or true positive rate\n",
        "    recall = TP/(TP+FN)\n",
        "    print('The recall for the test dataset is {}.'.format(recall))\n",
        "    #negative recall or true negative rate\n",
        "    selec = TN/(FP+TN)\n",
        "    print('The selectivity for the test dataset is {}.'.format(selec))\n",
        "    #precision or positive predicted value\n",
        "    prec = TP/(FP+TP)\n",
        "    print('The precision for the test dataset is {}.'.format(prec))\n"
      ],
      "metadata": {
        "id": "Xs0D5VriD1l3"
      },
      "execution_count": null,
      "outputs": []
    },
    {
      "cell_type": "code",
      "source": [
        "#hasil confusion matrix dari Naive Bayes\n",
        "ConfusionMatrixStats(test_results)"
      ],
      "metadata": {
        "colab": {
          "base_uri": "https://localhost:8080/"
        },
        "id": "H88lFNw-D3uS",
        "outputId": "74abb847-315c-4535-aa73-4859e895d566"
      },
      "execution_count": null,
      "outputs": [
        {
          "output_type": "stream",
          "name": "stdout",
          "text": [
            "-----------------------------------------------\n",
            "TP  =   151         FN  =   2   \n",
            "FP  =   49         TN  =   944   \n",
            "The accuracy for the test dataset is 0.9554973821989529.\n",
            "The recall for the test dataset is 0.9869281045751634.\n",
            "The selectivity for the test dataset is 0.9506545820745217.\n",
            "The precision for the test dataset is 0.755.\n"
          ]
        }
      ]
    },
    {
      "cell_type": "markdown",
      "source": [
        "#Random Forest "
      ],
      "metadata": {
        "id": "nEhc7wyFH9mL"
      }
    },
    {
      "cell_type": "code",
      "source": [
        "#import algoritma Random forest\n",
        "from pyspark.ml.classification import RandomForestClassifier as RFC"
      ],
      "metadata": {
        "id": "wOAEURyoD8xG"
      },
      "execution_count": null,
      "outputs": []
    },
    {
      "cell_type": "code",
      "source": [
        "#hasil confusiion matrix dengan algoritma Random Forest\n",
        "rfc_model = RFC(\n",
        "                featuresCol='features',\n",
        "                labelCol='label',\n",
        "                maxDepth=10,\n",
        "                numTrees=200,\n",
        "                impurity='entropy')\n",
        "\n",
        "rfc_test_results = rfc_model.fit(train_data).transform(test_data)\n",
        "ConfusionMatrixStats(rfc_test_results)"
      ],
      "metadata": {
        "colab": {
          "base_uri": "https://localhost:8080/"
        },
        "id": "zpTsX4KCD_dr",
        "outputId": "4892b146-3681-4c98-c892-10c7cd6ad3c8"
      },
      "execution_count": null,
      "outputs": [
        {
          "output_type": "stream",
          "name": "stdout",
          "text": [
            "-----------------------------------------------\n",
            "TP  =   25         FN  =   128   \n",
            "FP  =   0         TN  =   993   \n",
            "The accuracy for the test dataset is 0.8883071553228621.\n",
            "The recall for the test dataset is 0.16339869281045752.\n",
            "The selectivity for the test dataset is 1.0.\n",
            "The precision for the test dataset is 1.0.\n"
          ]
        }
      ]
    },
    {
      "cell_type": "markdown",
      "source": [
        "# Kesimpulan\n",
        "Model Evaluasi dengan Random Forest lebih rendah dibandingkan Naive Bayes. Jadi penggunaan Naive Bayes akurasinya lebih bagus dibandingkan Random Forest."
      ],
      "metadata": {
        "id": "TuoWbDCVMmr7"
      }
    }
  ]
}